{
  "nbformat": 4,
  "nbformat_minor": 0,
  "metadata": {
    "colab": {
      "name": "baekjoon_220310.ipynb",
      "provenance": [],
      "collapsed_sections": [],
      "authorship_tag": "ABX9TyNXQsyPx4i8VW7bjfwl+Tlq",
      "include_colab_link": true
    },
    "kernelspec": {
      "name": "python3",
      "display_name": "Python 3"
    },
    "language_info": {
      "name": "python"
    }
  },
  "cells": [
    {
      "cell_type": "markdown",
      "metadata": {
        "id": "view-in-github",
        "colab_type": "text"
      },
      "source": [
        "<a href=\"https://colab.research.google.com/github/JuhyeongKi/baekjoon/blob/main/baekjoon_220310.ipynb\" target=\"_parent\"><img src=\"https://colab.research.google.com/assets/colab-badge.svg\" alt=\"Open In Colab\"/></a>"
      ]
    },
    {
      "cell_type": "markdown",
      "source": [
        "# 문제\n",
        " 두 자연수 A와 B가 있을 때, A%B는 A를 B로 나눈 나머지 이다. 예를 들어, 7, 14, 27, 38을 3으로 나눈 나머지는 1, 2, 0, 2이다. \n",
        "\n",
        "수 10개를 입력받은 뒤, 이를 42로 나눈 나머지를 구한다. 그 다음 서로 다른 값이 몇 개 있는지 출력하는 프로그램을 작성하시오.\n",
        "\n",
        "# 입력\n",
        " 첫째 줄부터 열번째 줄 까지 숫자가 한 줄에 하나씩 주어진다. 이 숫자는 1,000보다 작거나 같고, 음이 아닌 정수이다.\n",
        "\n",
        "# 출력\n",
        " 첫째 줄에, 42로 나누었을 때, 서로 다른 나머지가 몇 개 있는지 출력한다."
      ],
      "metadata": {
        "id": "Rd0JKDs8a33b"
      }
    },
    {
      "cell_type": "code",
      "execution_count": 1,
      "metadata": {
        "colab": {
          "base_uri": "https://localhost:8080/"
        },
        "id": "AfkL5ZbBaqZ9",
        "outputId": "28489e6f-fa72-4d4b-d755-f733245dc6cc"
      },
      "outputs": [
        {
          "output_type": "execute_result",
          "data": {
            "text/plain": [
              "1"
            ]
          },
          "metadata": {},
          "execution_count": 1
        }
      ],
      "source": [
        "1%42"
      ]
    },
    {
      "cell_type": "markdown",
      "source": [
        "부연설명으로 \n",
        "\n",
        "- len()은 리스트 요소 갯수를 출력해 주는 method로 단독사용가능\n",
        "\n",
        "- count(특정값) -> 리스트내의 특정값의 숫자 출력"
      ],
      "metadata": {
        "id": "qp1IvB8Hl8a4"
      }
    },
    {
      "cell_type": "code",
      "source": [
        "B = []\n",
        "C = []\n",
        "\n",
        "# 10개의 값을 입력받아 만약 입력값이 0<A<=1000 범위라면 42로 나눈 나머지를 B리스트에 저장한다 \n",
        "for i in range(1, 11): \n",
        "  A = int(input())\n",
        "  if 0< A <=1000:\n",
        "    B.append(A%42)\n",
        "# B리스트의 값이 C리스트에 없다면 C에 값을 저장한다(중복 값 제거 효과)\n",
        "for j in B:\n",
        "  if j not in C:\n",
        "    C.append(j)\n",
        "\n",
        "# C 리스트에는 B리스트 중 중복값이 제거 된 값이 저장되기 때문에 C의 갯수를 출력한다.\n",
        "print(len(C))"
      ],
      "metadata": {
        "colab": {
          "base_uri": "https://localhost:8080/"
        },
        "id": "LkCYaATeiUvZ",
        "outputId": "602c2723-91b3-4ff4-d05d-300ebd9ce69d"
      },
      "execution_count": 24,
      "outputs": [
        {
          "output_type": "stream",
          "name": "stdout",
          "text": [
            "1\n",
            "2\n",
            "3\n",
            "4\n",
            "5\n",
            "6\n",
            "7\n",
            "8\n",
            "9\n",
            "10\n",
            "10\n"
          ]
        }
      ]
    },
    {
      "cell_type": "markdown",
      "source": [
        "# 문제\n",
        " \"OOXXOXXOOO\"와 같은 OX퀴즈의 결과가 있다. O는 문제를 맞은 것이고, X는 문제를 틀린 것이다. 문제를 맞은 경우 그 문제의 점수는 그 문제까지 연속된 O의 개수가 된다. 예를 들어, 10번 문제의 점수는 3이 된다.\n",
        "\n",
        "\"OOXXOXXOOO\"의 점수는 1+2+0+0+1+0+0+1+2+3 = 10점이다.\n",
        "\n",
        "OX퀴즈의 결과가 주어졌을 때, 점수를 구하는 프로그램을 작성하시오.\n",
        "\n",
        "# 입력\n",
        " 첫째 줄에 테스트 케이스의 개수가 주어진다. 각 테스트 케이스는 한 줄로 이루어져 있고, 길이가 0보다 크고 80보다 작은 문자열이 주어진다. 문자열은 O와 X만으로 이루어져 있다.\n",
        "\n",
        "# 출력\n",
        " 각 테스트 케이스마다 점수를 출력한다."
      ],
      "metadata": {
        "id": "vQkbLc_amlnV"
      }
    },
    {
      "cell_type": "code",
      "source": [
        "# 문제 이해를 잘못함....-> 각 O의 index가 점수인줄 알았음 수정하자\n",
        "\n",
        "C = int(input())\n",
        "score=[]\n",
        "for j in range(C):\n",
        "  A = input()\n",
        "  for i in range(len(list(A))):\n",
        "    if A[i]=='O':\n",
        "      score.append(i)\n",
        "    else:\n",
        "      pass\n",
        "  print(sum(score))"
      ],
      "metadata": {
        "colab": {
          "base_uri": "https://localhost:8080/"
        },
        "id": "WtQbVzRLoA1k",
        "outputId": "2f88fd42-8d8c-40cf-ad68-b835f14beab6"
      },
      "execution_count": 2,
      "outputs": [
        {
          "output_type": "stream",
          "name": "stdout",
          "text": [
            "2\n",
            "OOXXOXXOOO\n",
            "29\n",
            "OOXXOOXXOO\n",
            "56\n"
          ]
        }
      ]
    },
    {
      "cell_type": "code",
      "source": [
        "# 뭔가 이상함-> 틀림\n",
        "\n",
        "C = int(input())\n",
        "score=[]\n",
        "for j in range(C):\n",
        "  A = input()\n",
        "  for i in range(len(list(A))):\n",
        "    if A[i]=='X':\n",
        "      pass\n",
        "    elif A[i]=='O':\n",
        "      score.append(1)\n",
        "      if A[i]==A[i-1]:\n",
        "        # number\n",
        "        score.append(+1)\n",
        "    else:\n",
        "      pass\n",
        "  print(sum(score))"
      ],
      "metadata": {
        "colab": {
          "base_uri": "https://localhost:8080/"
        },
        "id": "v284P_VboZ3D",
        "outputId": "11f22ab8-0492-4011-fa4b-28ff473b931e"
      },
      "execution_count": 123,
      "outputs": [
        {
          "output_type": "stream",
          "name": "stdout",
          "text": [
            "1\n",
            "OOXXOXXOOO\n",
            "10\n"
          ]
        }
      ]
    },
    {
      "cell_type": "code",
      "source": [
        "# def sum_n(n):\n",
        "#     s = 0\t\t\t# 합을 계산할 변수\n",
        "#     for i in range(1, n + 1):\t# 1부터 n까지 반복(n + 1은 제외)\n",
        "#         s = s + i\n",
        "#     return s"
      ],
      "metadata": {
        "id": "Abi-ESGftDck"
      },
      "execution_count": 101,
      "outputs": []
    },
    {
      "cell_type": "code",
      "source": [
        "# sum_n(4)"
      ],
      "metadata": {
        "colab": {
          "base_uri": "https://localhost:8080/"
        },
        "id": "wj9JJF07wCGv",
        "outputId": "68cb68b8-f9ff-4c19-90c8-61de511b77a0"
      },
      "execution_count": 102,
      "outputs": [
        {
          "output_type": "execute_result",
          "data": {
            "text/plain": [
              "10"
            ]
          },
          "metadata": {},
          "execution_count": 102
        }
      ]
    },
    {
      "cell_type": "code",
      "source": [
        "# 정답!!!\n",
        "# 1. 'O' 문자에서만 순서를 적용하기때문에 X문자를 대상으로 구분을 한다음에 공백을 삭제해서 리스트를 만든다\n",
        "# 2. 생성된 리스트 내부의 각 인자의 'O'갯수를 센다음 0~N까지의 합을 리스트로 저장해주고\n",
        "# 3. 마지막에 리스트 내부 총 합을 출력한다.\n",
        "\n",
        "\n",
        "number = int(input())\n",
        "for j in range(number):\n",
        "  C = list(map(str, input().split('X')))\n",
        "  D = []\n",
        "  for i in C:\n",
        "    if i =='':\n",
        "      pass\n",
        "    else:\n",
        "      D.append(i)\n",
        "  \n",
        "  def sum_n(n):\n",
        "      s = 0\t\t\t# 합을 계산할 변수\n",
        "      for i in range(1, n + 1):\t# 1부터 n까지 반복(n + 1은 제외)\n",
        "          s = s + i\n",
        "      return s\n",
        "  \n",
        "  E=[]\n",
        "  if len(D)==1:\n",
        "    for i in range(1):\n",
        "      F = len(D[0])\n",
        "      E.append(sum_n(F))\n",
        "  else:\n",
        "    for i in range(len(D)):\n",
        "      F = len(D[i])\n",
        "      E.append(sum_n(F))  \n",
        "  print(sum(E))"
      ],
      "metadata": {
        "colab": {
          "base_uri": "https://localhost:8080/"
        },
        "id": "3S41LyuvIMLR",
        "outputId": "274b346e-9207-4114-9c33-47c7828f808e"
      },
      "execution_count": 121,
      "outputs": [
        {
          "output_type": "stream",
          "name": "stdout",
          "text": [
            "5\n",
            "OOXXOXXOOO\n",
            "10\n",
            "OOXXOOXXOO\n",
            "9\n",
            "OXOXOXOXOXOXOX\n",
            "7\n",
            "OOOOOOOOOO\n",
            "55\n",
            "OOOOXOOOOXOOOOX\n",
            "30\n"
          ]
        }
      ]
    }
  ]
}