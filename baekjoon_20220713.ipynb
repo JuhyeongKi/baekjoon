{
  "nbformat": 4,
  "nbformat_minor": 0,
  "metadata": {
    "colab": {
      "name": "baekjoon_20220713.ipynb",
      "provenance": [],
      "authorship_tag": "ABX9TyPpgFVb0heJqK+zLQn0NqeS",
      "include_colab_link": true
    },
    "kernelspec": {
      "name": "python3",
      "display_name": "Python 3"
    },
    "language_info": {
      "name": "python"
    }
  },
  "cells": [
    {
      "cell_type": "markdown",
      "metadata": {
        "id": "view-in-github",
        "colab_type": "text"
      },
      "source": [
        "<a href=\"https://colab.research.google.com/github/JuhyeongKi/baekjoon/blob/main/baekjoon_20220713.ipynb\" target=\"_parent\"><img src=\"https://colab.research.google.com/assets/colab-badge.svg\" alt=\"Open In Colab\"/></a>"
      ]
    },
    {
      "cell_type": "markdown",
      "source": [
        "# 문제\n",
        "스택 (stack)은 기본적인 자료구조 중 하나로, 컴퓨터 프로그램을 작성할 때 자주 이용되는 개념이다. 스택은 자료를 넣는 (push) 입구와 자료를 뽑는 (pop) 입구가 같아 제일 나중에 들어간 자료가 제일 먼저 나오는 (LIFO, Last in First out) 특성을 가지고 있다.\n",
        "\n",
        "1부터 n까지의 수를 스택에 넣었다가 뽑아 늘어놓음으로써, 하나의 수열을 만들 수 있다. 이때, 스택에 push하는 순서는 반드시 오름차순을 지키도록 한다고 하자. 임의의 수열이 주어졌을 때 스택을 이용해 그 수열을 만들 수 있는지 없는지, 있다면 어떤 순서로 push와 pop 연산을 수행해야 하는지를 알아낼 수 있다. 이를 계산하는 프로그램을 작성하라."
      ],
      "metadata": {
        "id": "YJp5VuGaRTw4"
      }
    },
    {
      "cell_type": "markdown",
      "source": [
        "# 입력\n",
        "\n",
        "첫 줄에 n (1 ≤ n ≤ 100,000)이 주어진다. 둘째 줄부터 n개의 줄에는 수열을 이루는 1이상 n이하의 정수가 하나씩 순서대로 주어진다. 물론 같은 정수가 두 번 나오는 일은 없다."
      ],
      "metadata": {
        "id": "hQDNIfm9RWDo"
      }
    },
    {
      "cell_type": "markdown",
      "source": [
        "# 출력\n",
        "입력된 수열을 만들기 위해 필요한 연산을 한 줄에 한 개씩 출력한다. push연산은 +로, pop 연산은 -로 표현하도록 한다. 불가능한 경우 NO를 출력한다."
      ],
      "metadata": {
        "id": "X25g0ScaRaNx"
      }
    },
    {
      "cell_type": "code",
      "execution_count": 1,
      "metadata": {
        "colab": {
          "base_uri": "https://localhost:8080/"
        },
        "id": "ESiJxnW8QgtP",
        "outputId": "d3f3785d-fee0-4993-c639-43c45974c0a2"
      },
      "outputs": [
        {
          "output_type": "stream",
          "name": "stdout",
          "text": [
            "8\n",
            "4\n",
            "3\n",
            "6\n",
            "8\n",
            "7\n",
            "5\n",
            "2\n",
            "1\n",
            "+\n",
            "+\n",
            "+\n",
            "+\n",
            "-\n",
            "-\n",
            "+\n",
            "+\n",
            "-\n",
            "+\n",
            "+\n",
            "-\n",
            "-\n",
            "-\n",
            "-\n",
            "-\n"
          ]
        }
      ],
      "source": [
        "n = int(input())\n",
        "stack = []\n",
        "answer = []\n",
        "flag = 0\n",
        "cur = 1\n",
        "for i in range(n):\n",
        "    num = int(input())\n",
        "    while cur <= num:       \n",
        "        stack.append(cur)\n",
        "        answer.append(\"+\")\n",
        "        cur += 1\n",
        "\n",
        "    if stack[-1] == num:    \n",
        "        stack.pop()         \n",
        "        answer.append(\"-\")\n",
        "    else:                   \n",
        "        print(\"NO\")         \n",
        "        flag = 1            \n",
        "        break               \n",
        "\n",
        "if flag == 0:\n",
        "    for i in answer:\n",
        "        print(i)"
      ]
    },
    {
      "cell_type": "code",
      "source": [
        "a =[]\n",
        "\n",
        "for i in range(9):\n",
        "  a.append(i)\n",
        "\n",
        "print('done')"
      ],
      "metadata": {
        "colab": {
          "base_uri": "https://localhost:8080/"
        },
        "id": "lGtRDh1GgcPp",
        "outputId": "e8ccd89c-79db-438f-c644-8d18fa7013d9"
      },
      "execution_count": 2,
      "outputs": [
        {
          "output_type": "stream",
          "name": "stdout",
          "text": [
            "done\n"
          ]
        }
      ]
    },
    {
      "cell_type": "code",
      "source": [
        "a.pop()"
      ],
      "metadata": {
        "colab": {
          "base_uri": "https://localhost:8080/"
        },
        "id": "qaLCqL-_41gV",
        "outputId": "2db26857-1263-4657-f65f-4affe705fdff"
      },
      "execution_count": 3,
      "outputs": [
        {
          "output_type": "execute_result",
          "data": {
            "text/plain": [
              "8"
            ]
          },
          "metadata": {},
          "execution_count": 3
        }
      ]
    },
    {
      "cell_type": "code",
      "source": [
        "n = int(input())\n",
        "stack = []\n",
        "answer = []\n",
        "flag = 0\n",
        "cur = 1\n",
        "for i in range(n):\n",
        "    num = int(input())\n",
        "    while cur <= num:       # 입력한 수를 만날 때 까지 오름차순으로 push\n",
        "        stack.append(cur)\n",
        "        answer.append(\"+\")\n",
        "        cur += 1"
      ],
      "metadata": {
        "colab": {
          "base_uri": "https://localhost:8080/"
        },
        "id": "g5d1aIAU42o-",
        "outputId": "722de50a-97bf-47d7-8974-ae90f0a22efe"
      },
      "execution_count": 4,
      "outputs": [
        {
          "name": "stdout",
          "output_type": "stream",
          "text": [
            "8\n",
            "4\n",
            "3\n",
            "6\n",
            "8\n",
            "7\n",
            "5\n",
            "2\n",
            "1\n"
          ]
        }
      ]
    },
    {
      "cell_type": "code",
      "source": [
        "num"
      ],
      "metadata": {
        "colab": {
          "base_uri": "https://localhost:8080/"
        },
        "id": "9hzQaHSGAAUP",
        "outputId": "8d330e2e-515a-4072-e16b-f073b6c08058"
      },
      "execution_count": 5,
      "outputs": [
        {
          "output_type": "execute_result",
          "data": {
            "text/plain": [
              "1"
            ]
          },
          "metadata": {},
          "execution_count": 5
        }
      ]
    },
    {
      "cell_type": "code",
      "source": [
        "cur"
      ],
      "metadata": {
        "colab": {
          "base_uri": "https://localhost:8080/"
        },
        "id": "VkQmGUZYAHoB",
        "outputId": "a1eeb6c1-4484-48bd-ac77-c8e394018722"
      },
      "execution_count": 6,
      "outputs": [
        {
          "output_type": "execute_result",
          "data": {
            "text/plain": [
              "9"
            ]
          },
          "metadata": {},
          "execution_count": 6
        }
      ]
    },
    {
      "cell_type": "code",
      "source": [
        "a"
      ],
      "metadata": {
        "colab": {
          "base_uri": "https://localhost:8080/"
        },
        "id": "ETB2ivAyAIuz",
        "outputId": "ff6ec529-cab1-498c-9003-52c8c2f26d96"
      },
      "execution_count": 7,
      "outputs": [
        {
          "output_type": "execute_result",
          "data": {
            "text/plain": [
              "[0, 1, 2, 3, 4, 5, 6, 7]"
            ]
          },
          "metadata": {},
          "execution_count": 7
        }
      ]
    },
    {
      "cell_type": "code",
      "source": [
        "stack"
      ],
      "metadata": {
        "colab": {
          "base_uri": "https://localhost:8080/"
        },
        "id": "GQIiCiolHQiU",
        "outputId": "05bd0201-2bd6-4271-b7f9-31a2fa36a5f3"
      },
      "execution_count": 8,
      "outputs": [
        {
          "output_type": "execute_result",
          "data": {
            "text/plain": [
              "[1, 2, 3, 4, 5, 6, 7, 8]"
            ]
          },
          "metadata": {},
          "execution_count": 8
        }
      ]
    },
    {
      "cell_type": "code",
      "source": [
        "n = int(input())"
      ],
      "metadata": {
        "colab": {
          "base_uri": "https://localhost:8080/"
        },
        "id": "X-K-kkFEQCQn",
        "outputId": "98ad7bd9-22ba-48f8-add2-c10ab3d9e571"
      },
      "execution_count": 9,
      "outputs": [
        {
          "name": "stdout",
          "output_type": "stream",
          "text": [
            "8\n"
          ]
        }
      ]
    },
    {
      "cell_type": "code",
      "source": [
        "n"
      ],
      "metadata": {
        "colab": {
          "base_uri": "https://localhost:8080/"
        },
        "id": "KIouIs-wRisu",
        "outputId": "30a852f3-b947-403f-fa01-6f8edc311e9e"
      },
      "execution_count": 10,
      "outputs": [
        {
          "output_type": "execute_result",
          "data": {
            "text/plain": [
              "8"
            ]
          },
          "metadata": {},
          "execution_count": 10
        }
      ]
    },
    {
      "cell_type": "code",
      "source": [
        "list = []\n",
        "\n",
        "for i in range(n):\n",
        "  a = int(input())\n",
        "  \n",
        "  list.append(i)\n",
        "  if i =="
      ],
      "metadata": {
        "id": "3qCJ4TPCRkCC"
      },
      "execution_count": null,
      "outputs": []
    }
  ]
}