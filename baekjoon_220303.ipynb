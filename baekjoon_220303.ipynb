{
  "nbformat": 4,
  "nbformat_minor": 0,
  "metadata": {
    "colab": {
      "name": "baekjoon_220303.ipynb",
      "provenance": [],
      "collapsed_sections": [],
      "authorship_tag": "ABX9TyPmtLv5GZYzYUDMyBeiErj3",
      "include_colab_link": true
    },
    "kernelspec": {
      "name": "python3",
      "display_name": "Python 3"
    },
    "language_info": {
      "name": "python"
    }
  },
  "cells": [
    {
      "cell_type": "markdown",
      "metadata": {
        "id": "view-in-github",
        "colab_type": "text"
      },
      "source": [
        "<a href=\"https://colab.research.google.com/github/JuhyeongKi/baekjoon/blob/main/baekjoon_220303.ipynb\" target=\"_parent\"><img src=\"https://colab.research.google.com/assets/colab-badge.svg\" alt=\"Open In Colab\"/></a>"
      ]
    },
    {
      "cell_type": "markdown",
      "source": [
        "# 문제\n",
        " 갑부 최백준 조교는 동전을 최소로 바꾸는데 성공했으나 김재홍 조교가 그 돈을 발견해서 최백준 조교에게 그 돈을 나누자고 따진다.\n",
        "\n",
        "그 사실이 전 우주로 알려지자 우주에 있던 많은 생명체들이 자신들에게 돈을 분배해 달라고 당장 달려오기 시작했다.\n",
        "\n",
        "프로토스 중앙 우주 정부의 정책인, ‘모든 지적 생명체는 동등하다’라는 규칙에 입각해서 돈을 똑같이 분배하고자 한다.\n",
        "\n",
        "한 생명체에게 얼마씩 돈을 줄 수 있는가?\n",
        "\n",
        "또, 생명체들에게 동일하게 분배한 후 남는 돈은 얼마인가?\n",
        "\n",
        "# 입력\n",
        " 첫째 줄에는 최백준 조교가 가진 돈 n과 돈을 받으러 온 생명체의 수 m이 주어진다. (1 ≤ m ≤ n ≤ 101000, m과 n은 10진수 정수)\n",
        "\n",
        "# 출력\n",
        " 첫째 줄에 생명체 하나에게 돌아가는 돈의 양을 출력한다. 그리고 두 번째 줄에는 1원씩 분배할 수 없는 남는 돈을 출력한다.\n",
        "\n",
        "# 예제입력\n",
        "1000 100 -> 10\n",
        "            0"
      ],
      "metadata": {
        "id": "lFpaZeZnLkhd"
      }
    },
    {
      "cell_type": "code",
      "execution_count": 33,
      "metadata": {
        "colab": {
          "base_uri": "https://localhost:8080/"
        },
        "id": "ZfB7Bsx6LgFk",
        "outputId": "e60c4842-b5c9-4819-a91c-58b35448ad61"
      },
      "outputs": [
        {
          "output_type": "stream",
          "name": "stdout",
          "text": [
            "1000 100\n",
            "10\n",
            "0\n"
          ]
        }
      ],
      "source": [
        "## 틀림...\n",
        "\n",
        "n , m = map(int, input().split())\n",
        "if 1 <= m and m <= n and n <=101000:\n",
        "  print(n//m)\n",
        "  print(n%m)\n",
        "else:\n",
        "  print('please input correct value')"
      ]
    },
    {
      "cell_type": "code",
      "source": [
        "## 맞음\n",
        "\n",
        "n , m = map(int, input().split())\n",
        "print(n//m)\n",
        "print(n%m)"
      ],
      "metadata": {
        "colab": {
          "base_uri": "https://localhost:8080/"
        },
        "id": "lOJs7WugTKIy",
        "outputId": "76bf483b-f6d7-4526-f535-92dcb26b11fa"
      },
      "execution_count": 32,
      "outputs": [
        {
          "output_type": "stream",
          "name": "stdout",
          "text": [
            "1000 100\n",
            "10\n",
            "0\n"
          ]
        }
      ]
    },
    {
      "cell_type": "markdown",
      "source": [
        "# 문제\n",
        " 16진수 수를 입력받아서 10진수로 출력하는 프로그램을 작성하시오.\n",
        "\n",
        "# 입력\n",
        " 첫째 줄에 16진수 수가 주어진다. 이 수의 최대 길이는 6글자이다. 16진수 수는 0~9와 A~F로 이루어져 있고, A~F는 10~15를 뜻한다. 또, 이 수는 음이 아닌 정수이다.\n",
        "\n",
        "# 출력\n",
        " 첫째 줄에 입력으로 주어진 16진수 수를 10진수로 변환해 출력한다."
      ],
      "metadata": {
        "id": "pZXmCnm3Vk5m"
      }
    },
    {
      "cell_type": "code",
      "source": [
        "A = input()\n",
        "print(int(A,16))"
      ],
      "metadata": {
        "colab": {
          "base_uri": "https://localhost:8080/"
        },
        "id": "kIFmFqMgVpGX",
        "outputId": "72d72485-162b-47a1-dcdd-53177b35acb4"
      },
      "execution_count": 34,
      "outputs": [
        {
          "output_type": "stream",
          "name": "stdout",
          "text": [
            "A\n",
            "10\n"
          ]
        }
      ]
    },
    {
      "cell_type": "markdown",
      "source": [
        "# 문제\n",
        " 두 수 A, B를 입력받아, A+B, A-B, A×B를 구하는 프로그램을 작성하시오.\n",
        "\n",
        "# 입력\n",
        " 첫째 줄에 A가, 둘째 줄에 B가 주어진다. 각각의 수는 10진수로 1,000자리를 넘지 않으며 양수와 음수가 모두 주어질 수 있다.\n",
        "\n",
        "# 출력\n",
        " 첫째 줄에 A+B, 둘째 줄에 A-B, 셋째 줄에 A×B를 출력한다. 각각을 출력할 때, \n",
        "답이 0인 경우를 제외하고는 0으로 시작하게 해서는 안 된다(1을 01로 출력하면 안 된다는 의미)."
      ],
      "metadata": {
        "id": "P5b1Fb7-WAOV"
      }
    },
    {
      "cell_type": "code",
      "source": [
        "A = int(input())\n",
        "B = int(input())\n",
        "\n",
        "print(A+B)\n",
        "print(A-B)\n",
        "print(A*B)"
      ],
      "metadata": {
        "colab": {
          "base_uri": "https://localhost:8080/"
        },
        "id": "zgAdm_qEWDBn",
        "outputId": "af0c62a1-bb7b-4bd8-8125-ed5b6e77aa8f"
      },
      "execution_count": 35,
      "outputs": [
        {
          "output_type": "stream",
          "name": "stdout",
          "text": [
            "01\n",
            "1\n",
            "2\n",
            "0\n",
            "1\n"
          ]
        }
      ]
    },
    {
      "cell_type": "markdown",
      "source": [
        "# 문제\n",
        " 컴퓨터를 제조하는 회사인 KOI 전자에서는 제조하는 컴퓨터마다 6자리의 고유번호를 매긴다. 고유번호의 처음 5자리에는 00000부터 99999까지의 수 중 하나가 주어지며 6번째 자리에는 검증수가 들어간다. 검증수는 고유번호의 처음 5자리에 들어가는 5개의 숫자를 각각 제곱한 수의 합을 10으로 나눈 나머지이다.\n",
        "\n",
        "예를 들어 고유번호의 처음 5자리의 숫자들이 04256이면, 각 숫자를 제곱한 수들의 합 0+16+4+25+36 = 81 을 10으로 나눈 나머지인 1이 검증수이다.\n",
        "\n",
        "# 입력\n",
        " 첫째 줄에 고유번호의 처음 5자리의 숫자들이 빈칸을 사이에 두고 하나씩 주어진다.\n",
        "\n",
        "# 출력\n",
        " 첫째 줄에 검증수를 출력한다."
      ],
      "metadata": {
        "id": "Z6eWheyBXM5W"
      }
    },
    {
      "cell_type": "code",
      "source": [
        "A, B, C, D, E = map(int, input().split())\n",
        "\n",
        "print(((A**2)+(B**2)+(C**2)+(D**2)+(E**2))%10)"
      ],
      "metadata": {
        "colab": {
          "base_uri": "https://localhost:8080/"
        },
        "id": "XQfEANYIXQKW",
        "outputId": "364979c3-97bb-450a-b391-8faeb5804e35"
      },
      "execution_count": 36,
      "outputs": [
        {
          "output_type": "stream",
          "name": "stdout",
          "text": [
            "1 2 3 4 5\n",
            "5\n"
          ]
        }
      ]
    }
  ]
}