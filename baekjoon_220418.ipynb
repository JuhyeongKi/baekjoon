{
  "nbformat": 4,
  "nbformat_minor": 0,
  "metadata": {
    "colab": {
      "name": "baekjoon_220418.ipynb",
      "provenance": [],
      "collapsed_sections": [],
      "authorship_tag": "ABX9TyMmGebFwb+fvHs6CXx8gaZN",
      "include_colab_link": true
    },
    "kernelspec": {
      "name": "python3",
      "display_name": "Python 3"
    },
    "language_info": {
      "name": "python"
    }
  },
  "cells": [
    {
      "cell_type": "markdown",
      "metadata": {
        "id": "view-in-github",
        "colab_type": "text"
      },
      "source": [
        "<a href=\"https://colab.research.google.com/github/JuhyeongKi/baekjoon/blob/main/baekjoon_220418.ipynb\" target=\"_parent\"><img src=\"https://colab.research.google.com/assets/colab-badge.svg\" alt=\"Open In Colab\"/></a>"
      ]
    },
    {
      "cell_type": "markdown",
      "source": [
        "# 문제\n",
        " 한수는 지금 (x, y)에 있다. 직사각형은 각 변이 좌표축에 평행하고, 왼쪽 아래 꼭짓점은 (0, 0), 오른쪽 위 꼭짓점은 (w, h)에 있다. 직사각형의 경계선까지 가는 거리의 최솟값을 구하는 프로그램을 작성하시오.\n",
        "\n",
        "# 입력\n",
        " 첫째 줄에 x, y, w, h가 주어진다.\n",
        "\n",
        "# 출력\n",
        " 첫째 줄에 문제의 정답을 출력한다.\n",
        "\n",
        "# 제한\n",
        " 1 ≤ w, h ≤ 1,000\n",
        "\n",
        " 1 ≤ x ≤ w-1\n",
        " \n",
        " 1 ≤ y ≤ h-1\n",
        " \n",
        " x, y, w, h는 정수"
      ],
      "metadata": {
        "id": "MSH-qRoRuKmN"
      }
    },
    {
      "cell_type": "code",
      "execution_count": null,
      "metadata": {
        "colab": {
          "base_uri": "https://localhost:8080/"
        },
        "id": "35qUqejfqtLN",
        "outputId": "c845f08f-a061-469d-a602-6161f0b03600"
      },
      "outputs": [
        {
          "output_type": "stream",
          "name": "stdout",
          "text": [
            "653 375 1000 1000\n",
            "347\n"
          ]
        }
      ],
      "source": [
        "x, y, w, h = map(int, input().split())\n",
        "\n",
        "print(min(x,y, w-x, h-y))"
      ]
    },
    {
      "cell_type": "markdown",
      "source": [
        "# 문제\n",
        " 알파벳 소문자로 이루어진 N개의 단어가 들어오면 아래와 같은 조건에 따라 정렬하는 프로그램을 작성하시오.\n",
        "\n",
        "길이가 짧은 것부터\n",
        "길이가 같으면 사전 순으로\n",
        "# 입력\n",
        " 첫째 줄에 단어의 개수 N이 주어진다. (1 ≤ N ≤ 20,000) 둘째 줄부터 N개의 줄에 걸쳐 알파벳 소문자로 이루어진 단어가 한 줄에 하나씩 주어진다. 주어지는 문자열의 길이는 50을 넘지 않는다.\n",
        "\n",
        "# 출력\n",
        " 조건에 따라 정렬하여 단어들을 출력한다. 단, 같은 단어가 여러 번 입력된 경우에는 한 번씩만 출력한다."
      ],
      "metadata": {
        "id": "0Yc8oDPSwdnv"
      }
    },
    {
      "cell_type": "code",
      "source": [
        "a = int(input())"
      ],
      "metadata": {
        "colab": {
          "base_uri": "https://localhost:8080/"
        },
        "id": "S_Aza04rwDB5",
        "outputId": "914d64cd-530e-4b1c-c1dd-9da987886db2"
      },
      "execution_count": null,
      "outputs": [
        {
          "name": "stdout",
          "output_type": "stream",
          "text": [
            "13\n"
          ]
        }
      ]
    },
    {
      "cell_type": "code",
      "source": [
        "b = []\n",
        "for i in range(a):\n",
        "  b.append(str(input()))"
      ],
      "metadata": {
        "colab": {
          "base_uri": "https://localhost:8080/"
        },
        "id": "cq43EQSUxCGi",
        "outputId": "c1f0f98a-5d7d-45f2-f72f-86cd7ce96115"
      },
      "execution_count": null,
      "outputs": [
        {
          "name": "stdout",
          "output_type": "stream",
          "text": [
            "but\n",
            "i\n",
            "wont\n",
            "hesitate\n",
            "no\n",
            "more\n",
            "no\n",
            "more\n",
            "it\n",
            "cannot\n",
            "wait\n",
            "im\n",
            "yours\n"
          ]
        }
      ]
    },
    {
      "cell_type": "code",
      "source": [
        "c = set(b)\n",
        "sorted(c)"
      ],
      "metadata": {
        "colab": {
          "base_uri": "https://localhost:8080/"
        },
        "id": "iOrQ9mhdxJp9",
        "outputId": "1827f352-03c8-488e-8d99-f00643301f78"
      },
      "execution_count": null,
      "outputs": [
        {
          "output_type": "execute_result",
          "data": {
            "text/plain": [
              "['but',\n",
              " 'cannot',\n",
              " 'hesitate',\n",
              " 'i',\n",
              " 'im',\n",
              " 'it',\n",
              " 'more',\n",
              " 'no',\n",
              " 'wait',\n",
              " 'wont',\n",
              " 'yours']"
            ]
          },
          "metadata": {},
          "execution_count": 59
        }
      ]
    },
    {
      "cell_type": "code",
      "source": [
        "c = sorted(c, key=len)"
      ],
      "metadata": {
        "id": "Q-s9j_3w3lGm"
      },
      "execution_count": null,
      "outputs": []
    },
    {
      "cell_type": "code",
      "source": [
        "for j in range(len(c)):\n",
        "  print(c[j])"
      ],
      "metadata": {
        "colab": {
          "base_uri": "https://localhost:8080/"
        },
        "id": "cJK7U6ccxThE",
        "outputId": "c7143de0-b608-4704-eac3-604946789102"
      },
      "execution_count": null,
      "outputs": [
        {
          "output_type": "stream",
          "name": "stdout",
          "text": [
            "i\n",
            "im\n",
            "it\n",
            "no\n",
            "but\n",
            "more\n",
            "wait\n",
            "wont\n",
            "yours\n",
            "cannot\n",
            "hesitate\n"
          ]
        }
      ]
    },
    {
      "cell_type": "markdown",
      "source": [
        "결론"
      ],
      "metadata": {
        "id": "yaJ2H5u1zHeH"
      }
    },
    {
      "cell_type": "code",
      "source": [
        "a = int(input())\n",
        "\n",
        "b = []\n",
        "for i in range(a):\n",
        "  b.append(str(input()))\n",
        "\n",
        "c = set(b)\n",
        "c = sorted(c)\n",
        "c = sorted(c, key=len) \n",
        "\n",
        "for j in range(len(c)):\n",
        "  print(c[j])"
      ],
      "metadata": {
        "colab": {
          "base_uri": "https://localhost:8080/"
        },
        "id": "2Ud4Vk-bxgXi",
        "outputId": "6c83f7ff-6297-40e0-a650-493ea43a7a06"
      },
      "execution_count": null,
      "outputs": [
        {
          "output_type": "stream",
          "name": "stdout",
          "text": [
            "13\n",
            "but\n",
            "i\n",
            "wont\n",
            "hesitate\n",
            "no\n",
            "more\n",
            "no\n",
            "more\n",
            "it\n",
            "cannot\n",
            "wait\n",
            "im\n",
            "yours\n",
            "i\n",
            "im\n",
            "it\n",
            "no\n",
            "but\n",
            "more\n",
            "wait\n",
            "wont\n",
            "yours\n",
            "cannot\n",
            "hesitate\n"
          ]
        }
      ]
    }
  ]
}