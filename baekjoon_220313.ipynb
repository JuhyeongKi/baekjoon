{
  "nbformat": 4,
  "nbformat_minor": 0,
  "metadata": {
    "colab": {
      "name": "baekjoon_220313.ipynb",
      "provenance": [],
      "collapsed_sections": [],
      "authorship_tag": "ABX9TyOQ2wnJCETBQvMm7q0Ru6Eq",
      "include_colab_link": true
    },
    "kernelspec": {
      "name": "python3",
      "display_name": "Python 3"
    },
    "language_info": {
      "name": "python"
    }
  },
  "cells": [
    {
      "cell_type": "markdown",
      "metadata": {
        "id": "view-in-github",
        "colab_type": "text"
      },
      "source": [
        "<a href=\"https://colab.research.google.com/github/JuhyeongKi/baekjoon/blob/main/baekjoon_220313.ipynb\" target=\"_parent\"><img src=\"https://colab.research.google.com/assets/colab-badge.svg\" alt=\"Open In Colab\"/></a>"
      ]
    },
    {
      "cell_type": "markdown",
      "source": [
        "# 문제\n",
        " 정수 N개로 이루어진 수열 A와 정수 X가 주어진다. 이때, A에서 X보다 작은 수를 모두 출력하는 프로그램을 작성하시오.\n",
        "\n",
        "# 입력\n",
        " 첫째 줄에 N과 X가 주어진다. (1 ≤ N, X ≤ 10,000)\n",
        "\n",
        "둘째 줄에 수열 A를 이루는 정수 N개가 주어진다. 주어지는 정수는 모두 1보다 크거나 같고, 10,000보다 작거나 같은 정수이다.\n",
        "\n",
        "# 출력\n",
        " X보다 작은 수를 입력받은 순서대로 공백으로 구분해 출력한다. X보다 작은 수는 적어도 하나 존재한다."
      ],
      "metadata": {
        "id": "p5iF3gzNqsDR"
      }
    },
    {
      "cell_type": "code",
      "execution_count": 11,
      "metadata": {
        "colab": {
          "base_uri": "https://localhost:8080/"
        },
        "id": "J23kUwI9qpCI",
        "outputId": "92e11484-8831-4c56-807b-a315f7be47ed"
      },
      "outputs": [
        {
          "output_type": "stream",
          "name": "stdout",
          "text": [
            "10 5\n",
            "1 10 4 9 2 3 8 5 7 6\n",
            "1 4 2 3 "
          ]
        }
      ],
      "source": [
        "N, X = map(int, input().split())\n",
        "\n",
        "A = list(map(int, input().split()))\n",
        "\n",
        "for i in A:\n",
        "  if i < X:\n",
        "    print(i, end=\" \")\n",
        "  else:\n",
        "    pass"
      ]
    },
    {
      "cell_type": "markdown",
      "source": [
        "# 문제\n",
        " 두 정수 A와 B를 입력받은 다음, A+B를 출력하는 프로그램을 작성하시오.\n",
        "\n",
        "# 입력\n",
        " 입력은 여러 개의 테스트 케이스로 이루어져 있다.\n",
        "\n",
        "각 테스트 케이스는 한 줄로 이루어져 있으며, 각 줄에 A와 B가 주어진다. (0 < A, B < 10)\n",
        "\n",
        "# 출력\n",
        " 각 테스트 케이스마다 A+B를 출력한다."
      ],
      "metadata": {
        "id": "-JirnV73xOiR"
      }
    },
    {
      "cell_type": "code",
      "source": [
        "# 틀림\n",
        "\n",
        "while True:\n",
        "  if  0<A and B<10:\n",
        "    A, B = map(int, input().split())\n",
        "    print(A+B)"
      ],
      "metadata": {
        "id": "sgwVjKr64GcO"
      },
      "execution_count": null,
      "outputs": []
    },
    {
      "cell_type": "code",
      "source": [
        "# 틀림 -> End Of File(EOF) 라고 while문 종결 조건을 넣어줘야 하는 것으로 검색결과 발견\n",
        "\n",
        "while True:\n",
        "  A, B = map(int, input().split())\n",
        "  if 0<A and B<10:\n",
        "    print(A+B)\n",
        "  else:\n",
        "    break"
      ],
      "metadata": {
        "id": "9HCBQHYS3q4y"
      },
      "execution_count": null,
      "outputs": []
    },
    {
      "cell_type": "code",
      "source": [
        "# 정답\n",
        "\n",
        "while True:\n",
        "  try:\n",
        "    A, B = map(int, input().split())\n",
        "    if 0<A and B<10:\n",
        "      print(A+B)\n",
        "  except:\n",
        "    break"
      ],
      "metadata": {
        "colab": {
          "base_uri": "https://localhost:8080/"
        },
        "id": "jyuLEGloxVfJ",
        "outputId": "3029d359-bc7c-4188-c086-919392797b85"
      },
      "execution_count": 22,
      "outputs": [
        {
          "name": "stdout",
          "output_type": "stream",
          "text": [
            "1 2\n",
            "3\n",
            "\n"
          ]
        }
      ]
    }
  ]
}