{
  "nbformat": 4,
  "nbformat_minor": 0,
  "metadata": {
    "colab": {
      "name": "baekjoon_220306.ipynb",
      "provenance": [],
      "collapsed_sections": [],
      "authorship_tag": "ABX9TyOljYvN7p5E++aaj6II32Ve",
      "include_colab_link": true
    },
    "kernelspec": {
      "name": "python3",
      "display_name": "Python 3"
    },
    "language_info": {
      "name": "python"
    }
  },
  "cells": [
    {
      "cell_type": "markdown",
      "metadata": {
        "id": "view-in-github",
        "colab_type": "text"
      },
      "source": [
        "<a href=\"https://colab.research.google.com/github/JuhyeongKi/baekjoon/blob/main/baekjoon_220306.ipynb\" target=\"_parent\"><img src=\"https://colab.research.google.com/assets/colab-badge.svg\" alt=\"Open In Colab\"/></a>"
      ]
    },
    {
      "cell_type": "markdown",
      "source": [
        "# 문제\n",
        "두 숫자 R1과 R2가 있을 때, 두 수의 평균 S는 (R1+R2)/2와 같다. 상근이는 정인이 생일 선물로 두 숫자 R1과 R2를 주려고 한다. 생일 파티에서 상근이는 정인이에게 이 두 숫자를 말해주고, 정인이는 이 숫자를 받아 적는다. 그리고 나서 기쁜 마음으로 1년동안 이 숫자를 외우면서 산다.\n",
        "\n",
        "상근이는 R1과 R2를 엄청난 고민 끝에 정했다. 작년에는 R1과 R2를 까먹어서 아무 숫자나 정해서 주었기 때문에, 올해는 까먹지 않기 위해서 평균 S도 같이 기억하려고 한다.\n",
        "\n",
        "오늘은 정인이 생일이다. 5분 후에 상근이는 생일 선물로 두 숫자 R1과 R2를 말해주어야 하지만, 안타깝게도 R2를 까먹고 말았다. 하지만 R1과 S는 기억하고 있다!\n",
        "\n",
        "상근이를 도와 R2가 몇 인지 구하는 프로그램을 작성하시오.\n",
        "\n",
        "# 입력\n",
        " 첫째 줄에 두 정수 R1과 S가 주어진다. 두 수는 -1000보다 크거나 같고, 1000보다 작거나 같다.\n",
        "\n",
        "# 출력\n",
        " 첫째 줄에 R2를 출력한다."
      ],
      "metadata": {
        "id": "wmwyWPo-O_UV"
      }
    },
    {
      "cell_type": "code",
      "execution_count": 2,
      "metadata": {
        "colab": {
          "base_uri": "https://localhost:8080/"
        },
        "id": "VMPmsvGTO5z1",
        "outputId": "48685f83-d6c8-4424-f26f-b3e25e6152db"
      },
      "outputs": [
        {
          "output_type": "stream",
          "name": "stdout",
          "text": [
            "11 15\n",
            "19\n"
          ]
        }
      ],
      "source": [
        "R, S = map(int, input().split())\n",
        "\n",
        "print((2*S)-(R))"
      ]
    },
    {
      "cell_type": "markdown",
      "source": [
        "# 문제\n",
        " Welcome을 예제 출력처럼 출력하는 프로그램을 작성하시오.\n",
        "\n",
        "# 출력\n",
        " Welcome을 아래 예제 출력처럼 출력한다."
      ],
      "metadata": {
        "id": "H_pgRXyWP9X6"
      }
    },
    {
      "cell_type": "code",
      "source": [
        "print('.  .   .')\n",
        "print('|  | _ | _. _ ._ _  _')\n",
        "print('|/\\|(/.|(_.(_)[ | )(/.')"
      ],
      "metadata": {
        "colab": {
          "base_uri": "https://localhost:8080/"
        },
        "id": "6jk6ngFsPtb6",
        "outputId": "59422eb0-32d0-4473-836e-30995ef1f5e8"
      },
      "execution_count": 3,
      "outputs": [
        {
          "output_type": "stream",
          "name": "stdout",
          "text": [
            ".  .   .\n",
            "|  | _ | _. _ ._ _  _\n",
            "|/\\|(/.|(_.(_)[ | )(/.\n"
          ]
        }
      ]
    },
    {
      "cell_type": "markdown",
      "source": [
        "# 문제\n",
        " 마이크로소프트 로고를 예제 출력처럼 출력하는 프로그램을 작성하시오.\n",
        "\n",
        "# 출력\n",
        " 마이크로소프트 로고를 예제 출력처럼 출력한다."
      ],
      "metadata": {
        "id": "w3XZfgKHQdZ5"
      }
    },
    {
      "cell_type": "code",
      "source": [
        "print('       _.-;;-._')\n",
        "print(\"'-..-'|   ||   |\")\n",
        "print(\"'-..-'|_.-;;-._|\")\n",
        "print(\"'-..-'|   ||   |\")\n",
        "print(\"'-..-'|_.-''-._|\")"
      ],
      "metadata": {
        "colab": {
          "base_uri": "https://localhost:8080/"
        },
        "id": "I6945vNiQPne",
        "outputId": "b2d7a298-4192-4f35-d350-9f348df416b6"
      },
      "execution_count": 4,
      "outputs": [
        {
          "output_type": "stream",
          "name": "stdout",
          "text": [
            "       _.-;;-._\n",
            "'-..-'|   ||   |\n",
            "'-..-'|_.-;;-._|\n",
            "'-..-'|   ||   |\n",
            "'-..-'|_.-''-._|\n"
          ]
        }
      ]
    },
    {
      "cell_type": "markdown",
      "source": [
        "# 문제\n",
        " 스타워즈에 등장하는 로봇인 C3PO는 요즘 콜센터에 근무하고 있다. 콜센터에 앉아있는 C3PO를 그리는 프로그램을 작성하시오.\n",
        "\n",
        "# 출력\n",
        " 예제 출력처럼 콜센터에 앉아있는 C3PO를 출력한다. 마지막 세 줄의 두 '|' 사이에는 공백이 10개 있다."
      ],
      "metadata": {
        "id": "-HynadoQRCeT"
      }
    },
    {
      "cell_type": "code",
      "source": [
        "print(\"     /~\\\\\")\n",
        "print('    ( oo|')\n",
        "print('    _\\=/_')\n",
        "print('   /  _  \\\\')\n",
        "print('  //|/.\\|\\\\\\\\')\n",
        "print(' ||  \\ /  ||')\n",
        "print('============')\n",
        "print('|          |')\n",
        "print('|          |')\n",
        "print('|          |')"
      ],
      "metadata": {
        "colab": {
          "base_uri": "https://localhost:8080/"
        },
        "id": "9ccbnLueQ1jS",
        "outputId": "81c3f5e9-878d-4307-bf93-1d908e6d207e"
      },
      "execution_count": 7,
      "outputs": [
        {
          "output_type": "stream",
          "name": "stdout",
          "text": [
            "     /~\\\n",
            "    ( oo|\n",
            "    _\\=/_\n",
            "   /  _  \\\n",
            "  //|/.\\|\\\\\n",
            " ||  \\ /  ||\n",
            "============\n",
            "|          |\n",
            "|          |\n",
            "|          |\n"
          ]
        }
      ]
    }
  ]
}