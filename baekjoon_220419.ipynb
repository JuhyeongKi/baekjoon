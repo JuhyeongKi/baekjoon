{
  "nbformat": 4,
  "nbformat_minor": 0,
  "metadata": {
    "colab": {
      "name": "baekjoon_220419.ipynb",
      "provenance": [],
      "authorship_tag": "ABX9TyMVXnSKzGFktVu/MlPsH53F",
      "include_colab_link": true
    },
    "kernelspec": {
      "name": "python3",
      "display_name": "Python 3"
    },
    "language_info": {
      "name": "python"
    }
  },
  "cells": [
    {
      "cell_type": "markdown",
      "metadata": {
        "id": "view-in-github",
        "colab_type": "text"
      },
      "source": [
        "<a href=\"https://colab.research.google.com/github/JuhyeongKi/baekjoon/blob/main/baekjoon_220419.ipynb\" target=\"_parent\"><img src=\"https://colab.research.google.com/assets/colab-badge.svg\" alt=\"Open In Colab\"/></a>"
      ]
    },
    {
      "cell_type": "markdown",
      "source": [
        "# 문제\n",
        " 어떤 단어를 뒤에서부터 읽어도 똑같다면 그 단어를 팰린드롬이라고 한다. 'radar', 'sees'는 팰린드롬이다.\n",
        "\n",
        "수도 팰린드롬으로 취급할 수 있다. 수의 숫자들을 뒤에서부터 읽어도 같다면 그 수는 팰린드롬수다. 121, 12421 등은 팰린드롬수다. 123, 1231은 뒤에서부터 읽으면 다르므로 팰린드롬수가 아니다. 또한 10도 팰린드롬수가 아닌데, 앞에 무의미한 0이 올 수 있다면 010이 되어 팰린드롬수로 취급할 수도 있지만, 특별히 이번 문제에서는 무의미한 0이 앞에 올 수 없다고 하자.\n",
        "\n",
        "# 입력\n",
        " 입력은 여러 개의 테스트 케이스로 이루어져 있으며, 각 줄마다 1 이상 99999 이하의 정수가 주어진다. 입력의 마지막 줄에는 0이 주어지며, 이 줄은 문제에 포함되지 않는다.\n",
        "\n",
        "# 출력\n",
        " 각 줄마다 주어진 수가 팰린드롬수면 'yes', 아니면 'no'를 출력한다."
      ],
      "metadata": {
        "id": "_HbIm9P7CxYN"
      }
    },
    {
      "cell_type": "code",
      "execution_count": 10,
      "metadata": {
        "colab": {
          "base_uri": "https://localhost:8080/"
        },
        "id": "TnGU4M54Ct2t",
        "outputId": "1af1058c-c2e4-488d-a675-6f76ee8d9842"
      },
      "outputs": [
        {
          "name": "stdout",
          "output_type": "stream",
          "text": [
            "1231\n",
            "no\n",
            "131\n",
            "yes\n",
            "141\n",
            "yes\n",
            "11111\n",
            "yes\n",
            "0\n"
          ]
        }
      ],
      "source": [
        "while True:\n",
        "  a = list(input())\n",
        "  if a[0]!='0':\n",
        "    pass\n",
        "  else:\n",
        "    break\n",
        "  if len(a)<4:\n",
        "    if a[0]==a[-1]:\n",
        "      print('yes')\n",
        "    else:\n",
        "      print('no')\n",
        "  if len(a)>3:\n",
        "    if a[0]==a[-1] and a[1]==a[-2]:\n",
        "      print('yes')\n",
        "    else:\n",
        "      print('no')"
      ]
    },
    {
      "cell_type": "code",
      "source": [
        "a"
      ],
      "metadata": {
        "colab": {
          "base_uri": "https://localhost:8080/"
        },
        "id": "b1EG3lWXEsi5",
        "outputId": "fbda1433-ea05-4e45-c292-aebc6d21bd38"
      },
      "execution_count": 8,
      "outputs": [
        {
          "output_type": "execute_result",
          "data": {
            "text/plain": [
              "['0']"
            ]
          },
          "metadata": {},
          "execution_count": 8
        }
      ]
    },
    {
      "cell_type": "code",
      "source": [
        ""
      ],
      "metadata": {
        "id": "_7928O95GAwW"
      },
      "execution_count": null,
      "outputs": []
    }
  ]
}