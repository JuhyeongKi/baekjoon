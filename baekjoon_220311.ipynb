{
  "nbformat": 4,
  "nbformat_minor": 0,
  "metadata": {
    "colab": {
      "name": "baekjoon_220311.ipynb",
      "provenance": [],
      "authorship_tag": "ABX9TyOI9LVg8Iw/tY90p8rp1Bi8",
      "include_colab_link": true
    },
    "kernelspec": {
      "name": "python3",
      "display_name": "Python 3"
    },
    "language_info": {
      "name": "python"
    }
  },
  "cells": [
    {
      "cell_type": "markdown",
      "metadata": {
        "id": "view-in-github",
        "colab_type": "text"
      },
      "source": [
        "<a href=\"https://colab.research.google.com/github/JuhyeongKi/baekjoon/blob/main/baekjoon_220311.ipynb\" target=\"_parent\"><img src=\"https://colab.research.google.com/assets/colab-badge.svg\" alt=\"Open In Colab\"/></a>"
      ]
    },
    {
      "cell_type": "markdown",
      "source": [
        "# 문제\n",
        " 두 정수 A와 B를 입력받은 다음, A+B를 출력하는 프로그램을 작성하시오.\n",
        "\n",
        "# 입력\n",
        " 첫째 줄에 테스트 케이스의 개수 T가 주어진다.\n",
        "\n",
        "각 테스트 케이스는 한 줄로 이루어져 있으며, 각 줄에 A와 B가 주어진다. (0 < A, B < 10)\n",
        "\n",
        "# 출력\n",
        " 각 테스트 케이스마다 A+B를 출력한다."
      ],
      "metadata": {
        "id": "7Ma-laTFkOvd"
      }
    },
    {
      "cell_type": "code",
      "execution_count": null,
      "metadata": {
        "id": "RtGUxYJLkKIY"
      },
      "outputs": [],
      "source": [
        "t = int(input())\n",
        "\n",
        "for _ in range(t):\n",
        "    a,b = map(int,input().split())\n",
        "    print(a+b)"
      ]
    }
  ]
}