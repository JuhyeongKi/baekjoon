{
  "nbformat": 4,
  "nbformat_minor": 0,
  "metadata": {
    "colab": {
      "name": "baekjoon_20220304.ipynb",
      "provenance": [],
      "collapsed_sections": [],
      "authorship_tag": "ABX9TyMHvJ20ax0o8hqHaaSK4xOu",
      "include_colab_link": true
    },
    "kernelspec": {
      "name": "python3",
      "display_name": "Python 3"
    },
    "language_info": {
      "name": "python"
    }
  },
  "cells": [
    {
      "cell_type": "markdown",
      "metadata": {
        "id": "view-in-github",
        "colab_type": "text"
      },
      "source": [
        "<a href=\"https://colab.research.google.com/github/JuhyeongKi/baekjoon/blob/main/baekjoon_20220304.ipynb\" target=\"_parent\"><img src=\"https://colab.research.google.com/assets/colab-badge.svg\" alt=\"Open In Colab\"/></a>"
      ]
    },
    {
      "cell_type": "markdown",
      "source": [
        "# 문제\n",
        " 두 정수 A와 B를 입력받은 다음, A+B를 출력하는 프로그램을 작성하시오.\n",
        "\n",
        "# 입력\n",
        " 첫째 줄에 A, 둘째 줄에 B가 주어진다. (0 < A, B < 10)\n",
        "\n",
        "# 출력\n",
        " 첫째 줄에 A+B를 출력한다."
      ],
      "metadata": {
        "id": "qVF-yjDwastn"
      }
    },
    {
      "cell_type": "code",
      "execution_count": null,
      "metadata": {
        "colab": {
          "base_uri": "https://localhost:8080/"
        },
        "id": "T2lfotYUao8C",
        "outputId": "b80759a8-0ced-4be1-c725-e8f36a509268"
      },
      "outputs": [
        {
          "output_type": "stream",
          "name": "stdout",
          "text": [
            "1\n",
            "2\n",
            "3\n"
          ]
        }
      ],
      "source": [
        "A = int(input())\n",
        "B = int(input())\n",
        "\n",
        "print(A+B)"
      ]
    },
    {
      "cell_type": "markdown",
      "source": [
        "#문제\n",
        " 파티가 끝나고 나면, 사람들은 누가 파티에 왔는지와 얼마나 많은 사람들이 왔는지를 궁금해한다. 보통 파티는 매우 크게 열리기 때문에, 정확하게 몇 명이 참가했는지 알 수가 없다.\n",
        "\n",
        "지난주 토요일에 상근이는 자신의 3학년 진학을 기념하면서 매우 성대한 파티를 열었다. 그리고, 상근이는 1m^2당 몇 명의 사람이 있었는지 알고있다.\n",
        "\n",
        "상근이의 파티는 정말 엄청난 규모였기 때문에, 대부분의 신문에도 기사가 실렸다. 상근이는 서로 다른 5개의 신문을 보면서 그 기사에 적혀져있는 참가자의 수를 적었다.\n",
        "\n",
        "상근이는 자신이 알고있는 참가자의 수가 정확하다고 생각한다. 각 신문 기사에 실려있는 참가자의 수가 몇 명 만큼 잘못되어있는지 구하는 프로그램을 작성하시오.\n",
        "\n",
        "# 입력\n",
        " 첫째 줄에 1m2당 사람의 수 L (1 ≤ L ≤ 10)과 파티가 열렸던 곳의 넓이 P (1 ≤ P ≤ 1000)가 주어진다.\n",
        "\n",
        "둘째 줄에는 각 기사에 실려있는 참가자의 수가 주어진다. 106보다 작은 양의 정수 5개가 주어진다.\n",
        "\n",
        "# 출력\n",
        " 출력은 첫째 줄에 다섯 개의 숫자를 출력해야 한다. 이 숫자는 상근이가 계산한 참가자의 수와  각 기사에 적혀있는 참가자의 수의 차이이다."
      ],
      "metadata": {
        "id": "q-9iiM-5bDXD"
      }
    },
    {
      "cell_type": "code",
      "source": [
        "people, area = map(int, input().split())\n",
        "\n",
        "N, E, W, S, A = map(int, input().split())\n",
        "\n",
        "print(N-(area*people), E-(area*people), W-(area*people), S-(area*people), A-(area*people), )"
      ],
      "metadata": {
        "colab": {
          "base_uri": "https://localhost:8080/"
        },
        "id": "x3tqy4Uma3Cm",
        "outputId": "cad98d5d-5071-4ec1-e87d-3b783bc1e86b"
      },
      "execution_count": null,
      "outputs": [
        {
          "output_type": "stream",
          "name": "stdout",
          "text": [
            "1 10\n",
            "10 10 10 10 10\n",
            "0 0 0 0 0\n"
          ]
        }
      ]
    },
    {
      "cell_type": "markdown",
      "source": [
        "# 문제\n",
        " 창영이는 노래 여러 개를 이어서 부르는 가수이다. 유명한 노래의 비슷한 멜로디를 이어서 부르면서 언제 곡이 넘어갔는지 모르게 만드는 것이 창영이 노래의 특징이다. 이런 노래로 상업적으로 엄청난 성공을 거둔 창영이에게 큰 시련이 찾아왔다. 그것은 바로 저작권이었다.\n",
        "\n",
        "창영이의 노래에 포함되어 있는 멜로디는 모두 저작권이 다른 사람에게 있는 노래이다. 따라서, 이 음악으로 상업적인 활동을 했기 때문에, 저작권 협회에 저작권료를 내야한다.\n",
        "\n",
        "창영이는 자신의 앨범에 포함되어있는 저작권이 있는 멜로디의 평균값을 구해보기로 했다. 이 값은 아래와 같이 구할 수 있다.\n",
        "\n",
        "(창영이 앨범에 수록된 곡에 포함되어 있는 저작권이 있는 멜로디의 개수) / (앨범에 수록된 곡의 개수)\n",
        "\n",
        "이때, 평균값은 항상 올림을 해서 정수로 만들어야 한다. 예를 들어, 창영이의 1집 앨범 \"영창에서 영원히 영창피아노를 친다\"에 총 38개 곡이 수록되어 있고, 이 앨범에 저작권이 있는 멜로디가 894개가 있다면, 평균값은 23.53이 되고 올림해서 24가 된다.\n",
        "\n",
        "매니저 강산이는 얼마나 많은 사람에게 저작권료를 주어야 하는지 궁금해졌다. 강산이가 알고 있는 정보는 앨범에 수록되어 있는 곡의 개수와 위에서 구한 평균값이다. 이때, 적어도 몇 곡이 저작권이 있는 멜로디인지 구하는 프로그램을 작성하시오.\n",
        "\n",
        "# 입력\n",
        " 첫째 줄에 앨범에 수록된 곡의 개수 A와 평균값 I가 주어진다. (1 ≤ A, I ≤ 100)\n",
        "\n",
        "# 출력\n",
        " 첫째 줄에 적어도 몇 곡이 저작권이 있는 멜로디인지 출력한다."
      ],
      "metadata": {
        "id": "wHu1EBuIgDir"
      }
    },
    {
      "cell_type": "code",
      "source": [
        "A, I = map(int, input().split())\n",
        "\n",
        "print(int((A*(I-1))+1))"
      ],
      "metadata": {
        "id": "PMheI85BgIvb",
        "colab": {
          "base_uri": "https://localhost:8080/"
        },
        "outputId": "bb02d938-9bbf-41a8-aeed-9897661f6c38"
      },
      "execution_count": 1,
      "outputs": [
        {
          "output_type": "stream",
          "name": "stdout",
          "text": [
            "38 24\n",
            "875\n"
          ]
        }
      ]
    },
    {
      "cell_type": "markdown",
      "source": [
        "# 문제\n",
        " 동혁이는 오래된 창고를 뒤지다가 낡은 체스판과 피스를 발견했다.\n",
        "\n",
        "체스판의 먼지를 털어내고 걸레로 닦으니 그럭저럭 쓸만한 체스판이 되었다. 하지만, 검정색 피스는 모두 있었으나, 흰색 피스는 개수가 올바르지 않았다.\n",
        "\n",
        "체스는 총 16개의 피스를 사용하며, 킹 1개, 퀸 1개, 룩 2개, 비숍 2개, 나이트 2개, 폰 8개로 구성되어 있다.\n",
        "\n",
        "동혁이가 발견한 흰색 피스의 개수가 주어졌을 때, 몇 개를 더하거나 빼야 올바른 세트가 되는지 구하는 프로그램을 작성하시오.\n",
        "\n",
        "# 입력\n",
        " 첫째 줄에 동혁이가 찾은 흰색 킹, 퀸, 룩, 비숍, 나이트, 폰의 개수가 주어진다. 이 값은 0보다 크거나 같고 10보다 작거나 같은 정수이다.\n",
        "\n",
        "# 출력\n",
        " 첫째 줄에 입력에서 주어진 순서대로 몇 개의 피스를 더하거나 빼야 되는지를 출력한다. 만약 수가 양수라면 동혁이는 그 개수 만큼 피스를 더해야 하는 것이고, 음수라면 제거해야 하는 것이다."
      ],
      "metadata": {
        "id": "1tidA9eHFOv7"
      }
    },
    {
      "cell_type": "code",
      "source": [
        "K, Q, L, B, N, P = map(int, input().split())\n",
        "\n",
        "print((1-K), (1-Q), (2-L), (2-B), (2-N), (8-P))"
      ],
      "metadata": {
        "colab": {
          "base_uri": "https://localhost:8080/"
        },
        "id": "OOJ66NeZFOf6",
        "outputId": "bf1afe55-c3da-4dfb-d779-a2c0c9471adb"
      },
      "execution_count": 2,
      "outputs": [
        {
          "output_type": "stream",
          "name": "stdout",
          "text": [
            "0 1 2 2 2 7\n",
            "1 0 0 0 0 1\n"
          ]
        }
      ]
    }
  ]
}