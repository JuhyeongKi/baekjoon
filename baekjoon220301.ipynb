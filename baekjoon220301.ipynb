{
  "nbformat": 4,
  "nbformat_minor": 0,
  "metadata": {
    "colab": {
      "name": "baekjoon220301.ipynb",
      "provenance": [],
      "authorship_tag": "ABX9TyNdcbJ+CqmZUqhaACsptRHt",
      "include_colab_link": true
    },
    "kernelspec": {
      "name": "python3",
      "display_name": "Python 3"
    },
    "language_info": {
      "name": "python"
    }
  },
  "cells": [
    {
      "cell_type": "markdown",
      "metadata": {
        "id": "view-in-github",
        "colab_type": "text"
      },
      "source": [
        "<a href=\"https://colab.research.google.com/github/JuhyeongKi/baekjoon/blob/main/baekjoon220301.ipynb\" target=\"_parent\"><img src=\"https://colab.research.google.com/assets/colab-badge.svg\" alt=\"Open In Colab\"/></a>"
      ]
    },
    {
      "cell_type": "code",
      "execution_count": null,
      "metadata": {
        "colab": {
          "base_uri": "https://localhost:8080/"
        },
        "id": "xY9YinRirRa6",
        "outputId": "8172c432-4447-48df-c9ab-9248a7132a0a"
      },
      "outputs": [
        {
          "output_type": "stream",
          "name": "stdout",
          "text": [
            "\\    /\\\n",
            " )  ( ')\n",
            "(  /  )\n",
            " \\(__)|\n"
          ]
        }
      ],
      "source": [
        "print('\\    /\\\\')\n",
        "print(\" )  ( ')\")\n",
        "print(\"(  /  )\")\n",
        "print(' \\(__)|')\n",
        "\n",
        "#\\    /\\\n",
        "# )  ( ')\n",
        "#(  /  )\n",
        "# \\(__)|"
      ]
    },
    {
      "cell_type": "code",
      "source": [
        "print('|\\_/|')\n",
        "print('|q p|   /}')\n",
        "print('( 0 )\"\"\"\\\\')\n",
        "print('|\"^\"`    |')\n",
        "print('||_/=\\\\\\__|')\n",
        "\n",
        "\n",
        "#|\\_/|\n",
        "#|q p|   /}\n",
        "#( 0 )\"\"\"\\\n",
        "#|\"^\"`    |\n",
        "#||_/=\\\\__|"
      ],
      "metadata": {
        "colab": {
          "base_uri": "https://localhost:8080/"
        },
        "id": "zQGQJidVrvbq",
        "outputId": "33a834fc-79d4-448b-e8b8-8c2958fb2193"
      },
      "execution_count": null,
      "outputs": [
        {
          "output_type": "stream",
          "name": "stdout",
          "text": [
            "|\\_/|\n",
            "|q p|   /}\n",
            "( 0 )\"\"\"\\\n",
            "|\"^\"`    |\n",
            "||_/=\\\\__|\n"
          ]
        }
      ]
    },
    {
      "cell_type": "code",
      "source": [
        "A, B = map(int, input().split())\n",
        "print(A+B)"
      ],
      "metadata": {
        "colab": {
          "base_uri": "https://localhost:8080/"
        },
        "id": "xKgE3Jw0sxOs",
        "outputId": "18cb52e8-7f22-4460-9a1b-551dc19a8783"
      },
      "execution_count": null,
      "outputs": [
        {
          "output_type": "stream",
          "name": "stdout",
          "text": [
            "1 2\n",
            "3\n"
          ]
        }
      ]
    },
    {
      "cell_type": "code",
      "source": [
        "A, B = map(int, input().split())\n",
        "print(abs(A-B))"
      ],
      "metadata": {
        "colab": {
          "base_uri": "https://localhost:8080/"
        },
        "id": "zF7qmc_f0f2W",
        "outputId": "21e0ccd2-c188-4181-8fa7-399e65ed6c1c"
      },
      "execution_count": null,
      "outputs": [
        {
          "output_type": "stream",
          "name": "stdout",
          "text": [
            "3 2\n",
            "1\n"
          ]
        }
      ]
    },
    {
      "cell_type": "code",
      "source": [
        "A, B = map(int, input().split())\n",
        "print(A*B)"
      ],
      "metadata": {
        "colab": {
          "base_uri": "https://localhost:8080/"
        },
        "id": "avGca7Vx6N-k",
        "outputId": "3798de2a-b404-42b8-cc6a-3dfa9321eadd"
      },
      "execution_count": null,
      "outputs": [
        {
          "output_type": "stream",
          "name": "stdout",
          "text": [
            "3 4\n",
            "12\n"
          ]
        }
      ]
    },
    {
      "cell_type": "code",
      "source": [
        "A, B = map(float, input().split())\n",
        "print(A/B)"
      ],
      "metadata": {
        "colab": {
          "base_uri": "https://localhost:8080/"
        },
        "id": "ybJaTN0W7N_N",
        "outputId": "7e622198-0259-48f8-a495-cbc030f14617"
      },
      "execution_count": null,
      "outputs": [
        {
          "output_type": "stream",
          "name": "stdout",
          "text": [
            "1 3\n",
            "0.3333333333333333\n"
          ]
        }
      ]
    },
    {
      "cell_type": "code",
      "source": [
        "A = input()\n",
        "B = A.split()\n",
        "\n",
        "number_of_words = len(B)\n",
        "print(number_of_words)"
      ],
      "metadata": {
        "colab": {
          "base_uri": "https://localhost:8080/"
        },
        "id": "BfmObFhf7oUi",
        "outputId": "b4350bab-7f29-4a08-8055-32286421c4db"
      },
      "execution_count": null,
      "outputs": [
        {
          "output_type": "stream",
          "name": "stdout",
          "text": [
            "The Curious Case of Benjamin Button\n",
            "6\n"
          ]
        }
      ]
    },
    {
      "cell_type": "code",
      "source": [
        "A = input().upper()\n",
        "B = {}\n",
        "for i in A:\n",
        "  if i in B:\n",
        "    B[i] += 1\n",
        "  else:\n",
        "    B[i] = 1\n",
        "\n",
        "    # ------B 저장\n",
        "D = sorted(B, key=lambda X: B[X], reverse=True)\n",
        "\n",
        "if len(D)==1:\n",
        "    print(D[0])\n",
        "elif B[D[0]]==B[D[1]]:\n",
        "    print('?')\n",
        "else:\n",
        "    print(D[0])\n"
      ],
      "metadata": {
        "colab": {
          "base_uri": "https://localhost:8080/"
        },
        "id": "nngU6YB786Ih",
        "outputId": "692cef8f-70b3-43b7-b497-cb80b1c3d42c"
      },
      "execution_count": null,
      "outputs": [
        {
          "output_type": "stream",
          "name": "stdout",
          "text": [
            "ZZZZZZz\n",
            "Z\n"
          ]
        }
      ]
    },
    {
      "cell_type": "code",
      "source": [
        "D"
      ],
      "metadata": {
        "colab": {
          "base_uri": "https://localhost:8080/"
        },
        "id": "tSCui7HGieeS",
        "outputId": "f03be7de-76bd-41d1-c5ea-1aa720f55e1a"
      },
      "execution_count": null,
      "outputs": [
        {
          "output_type": "execute_result",
          "data": {
            "text/plain": [
              "['Z']"
            ]
          },
          "metadata": {},
          "execution_count": 289
        }
      ]
    },
    {
      "cell_type": "code",
      "source": [
        "sorted(B, key=lambda X: B[X], reverse=True)[0].upper()"
      ],
      "metadata": {
        "colab": {
          "base_uri": "https://localhost:8080/",
          "height": 36
        },
        "id": "4EKIGI-X-RgP",
        "outputId": "9698e82b-9fda-4507-8924-8e2cd9085767"
      },
      "execution_count": null,
      "outputs": [
        {
          "output_type": "execute_result",
          "data": {
            "application/vnd.google.colaboratory.intrinsic+json": {
              "type": "string"
            },
            "text/plain": [
              "'M'"
            ]
          },
          "metadata": {},
          "execution_count": 227
        }
      ]
    },
    {
      "cell_type": "code",
      "source": [
        "D[0]\n",
        "D[1]"
      ],
      "metadata": {
        "colab": {
          "base_uri": "https://localhost:8080/",
          "height": 187
        },
        "id": "o5QArMP3h6gw",
        "outputId": "b5987e64-136a-477c-d4af-44d3498107e3"
      },
      "execution_count": null,
      "outputs": [
        {
          "output_type": "error",
          "ename": "IndexError",
          "evalue": "ignored",
          "traceback": [
            "\u001b[0;31m---------------------------------------------------------------------------\u001b[0m",
            "\u001b[0;31mIndexError\u001b[0m                                Traceback (most recent call last)",
            "\u001b[0;32m<ipython-input-258-51dc0536cd4c>\u001b[0m in \u001b[0;36m<module>\u001b[0;34m()\u001b[0m\n\u001b[1;32m      1\u001b[0m \u001b[0mD\u001b[0m\u001b[0;34m[\u001b[0m\u001b[0;36m0\u001b[0m\u001b[0;34m]\u001b[0m\u001b[0;34m\u001b[0m\u001b[0;34m\u001b[0m\u001b[0m\n\u001b[0;32m----> 2\u001b[0;31m \u001b[0mD\u001b[0m\u001b[0;34m[\u001b[0m\u001b[0;36m1\u001b[0m\u001b[0;34m]\u001b[0m\u001b[0;34m\u001b[0m\u001b[0;34m\u001b[0m\u001b[0m\n\u001b[0m",
            "\u001b[0;31mIndexError\u001b[0m: list index out of range"
          ]
        }
      ]
    },
    {
      "cell_type": "code",
      "source": [
        "if D[0]==D[1]:\n",
        "  print('?')\n",
        "else:\n",
        "    print(D[0].upper())\n"
      ],
      "metadata": {
        "colab": {
          "base_uri": "https://localhost:8080/"
        },
        "id": "vI4mO7mP_rqM",
        "outputId": "7db3df5f-5851-4e4f-91f7-013cbee75101"
      },
      "execution_count": null,
      "outputs": [
        {
          "output_type": "stream",
          "name": "stdout",
          "text": [
            "R\n"
          ]
        }
      ]
    },
    {
      "cell_type": "code",
      "source": [
        "for x in B:\n",
        "  print(B[x])"
      ],
      "metadata": {
        "colab": {
          "base_uri": "https://localhost:8080/"
        },
        "id": "JK-SbPeVOJWz",
        "outputId": "300cfd17-edfa-4bbe-bd98-8d4b1c20f6fb"
      },
      "execution_count": null,
      "outputs": [
        {
          "output_type": "stream",
          "name": "stdout",
          "text": [
            "1\n",
            "1\n",
            "2\n",
            "1\n"
          ]
        }
      ]
    },
    {
      "cell_type": "code",
      "source": [
        ""
      ],
      "metadata": {
        "id": "DDsoDI0JeEvW"
      },
      "execution_count": null,
      "outputs": []
    }
  ]
}