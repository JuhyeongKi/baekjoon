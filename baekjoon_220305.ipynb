{
  "nbformat": 4,
  "nbformat_minor": 0,
  "metadata": {
    "colab": {
      "name": "baekjoon_220305.ipynb",
      "provenance": [],
      "collapsed_sections": [],
      "authorship_tag": "ABX9TyPV5Tw31GZ5GxieE59EHlBY",
      "include_colab_link": true
    },
    "kernelspec": {
      "name": "python3",
      "display_name": "Python 3"
    },
    "language_info": {
      "name": "python"
    }
  },
  "cells": [
    {
      "cell_type": "markdown",
      "metadata": {
        "id": "view-in-github",
        "colab_type": "text"
      },
      "source": [
        "<a href=\"https://colab.research.google.com/github/JuhyeongKi/baekjoon/blob/main/baekjoon_220305.ipynb\" target=\"_parent\"><img src=\"https://colab.research.google.com/assets/colab-badge.svg\" alt=\"Open In Colab\"/></a>"
      ]
    },
    {
      "cell_type": "markdown",
      "source": [
        "# 문제\n",
        " 두 정수 A와 B가 주어졌을 때, A와 B를 비교하는 프로그램을 작성하시오.\n",
        "\n",
        "# 입력\n",
        " 첫째 줄에 A와 B가 주어진다. A와 B는 공백 한 칸으로 구분되어져 있다.\n",
        "\n",
        "# 출력\n",
        " 첫째 줄에 다음 세 가지 중 하나를 출력한다.\n",
        "\n",
        "A가 B보다 큰 경우에는 '>'를 출력한다.\n",
        "A가 B보다 작은 경우에는 '<'를 출력한다.\n",
        "A와 B가 같은 경우에는 '=='를 출력한다.\n",
        "\n",
        "# 제한\n",
        " -10,000 ≤ A, B ≤ 10,000"
      ],
      "metadata": {
        "id": "bZBLPXE8An9P"
      }
    },
    {
      "cell_type": "code",
      "execution_count": 5,
      "metadata": {
        "colab": {
          "base_uri": "https://localhost:8080/"
        },
        "id": "LStdvVqNAnNZ",
        "outputId": "2f7b2da7-c143-40ee-e3fc-5599e17e9692"
      },
      "outputs": [
        {
          "output_type": "stream",
          "name": "stdout",
          "text": [
            "-1111111111 1000000000000\n",
            "please input correct number\n"
          ]
        }
      ],
      "source": [
        "A, B = map(int, input().split())\n",
        "if -10000<= (A and B) <= 10000:\n",
        "  if A>B:\n",
        "    print('>')\n",
        "  elif A<B:\n",
        "    print('<')\n",
        "  elif A==B:\n",
        "    print('==')\n",
        "else:\n",
        "  print('please input correct number')    "
      ]
    },
    {
      "cell_type": "markdown",
      "source": [
        "# 문제\n",
        " 세준이는 기말고사를 망쳤다. 세준이는 점수를 조작해서 집에 가져가기로 했다. 일단 세준이는 자기 점수 중에 최댓값을 골랐다. 이 값을 M이라고 한다. 그리고 나서 모든 점수를 점수/M*100으로 고쳤다.\n",
        "\n",
        "예를 들어, 세준이의 최고점이 70이고, 수학점수가 50이었으면 수학점수는 50/70*100이 되어 71.43점이 된다.\n",
        "\n",
        "세준이의 성적을 위의 방법대로 새로 계산했을 때, 새로운 평균을 구하는 프로그램을 작성하시오.\n",
        "\n",
        "# 입력\n",
        " 첫째 줄에 시험 본 과목의 개수 N이 주어진다. 이 값은 1000보다 작거나 같다. 둘째 줄에 세준이의 현재 성적이 주어진다. 이 값은 100보다 작거나 같은 음이 아닌 정수이고, 적어도 하나의 값은 0보다 크다.\n",
        "\n",
        "# 출력\n",
        " 첫째 줄에 새로운 평균을 출력한다. 실제 정답과 출력값의 절대오차 또는 상대오차가 10-2 이하이면 정답이다."
      ],
      "metadata": {
        "id": "uvGpBFqWBkWw"
      }
    },
    {
      "cell_type": "code",
      "source": [
        "N = int(input())\n",
        "score = list(map(int, input().split()))\n",
        "max_number=max(score)\n",
        "\n",
        "for i in range(0,N):\n",
        "  if score[i]<100 and 0<=score[i]:\n",
        "    score[i] = score[i]/max_number*100\n",
        "\n",
        "    if N == 0 or N>1000:\n",
        "        print(\"please input correct number\")\n",
        "        exit()\n",
        "\n",
        "print(sum(score)/N)"
      ],
      "metadata": {
        "colab": {
          "base_uri": "https://localhost:8080/"
        },
        "id": "oWoJUuOaAzsR",
        "outputId": "df44f66e-3e72-4ba8-cab1-1e746d88ccab"
      },
      "execution_count": 50,
      "outputs": [
        {
          "output_type": "stream",
          "name": "stdout",
          "text": [
            "3\n",
            "10 20 30\n",
            "66.66666666666667\n"
          ]
        }
      ]
    }
  ]
}