{
  "nbformat": 4,
  "nbformat_minor": 0,
  "metadata": {
    "colab": {
      "name": "BAEKJOON_220302.ipynb",
      "provenance": [],
      "authorship_tag": "ABX9TyOJFfpmGp1v6zVRhT7Ie+B8",
      "include_colab_link": true
    },
    "kernelspec": {
      "name": "python3",
      "display_name": "Python 3"
    },
    "language_info": {
      "name": "python"
    }
  },
  "cells": [
    {
      "cell_type": "markdown",
      "metadata": {
        "id": "view-in-github",
        "colab_type": "text"
      },
      "source": [
        "<a href=\"https://colab.research.google.com/github/JuhyeongKi/baekjoon/blob/main/BAEKJOON_220302.ipynb\" target=\"_parent\"><img src=\"https://colab.research.google.com/assets/colab-badge.svg\" alt=\"Open In Colab\"/></a>"
      ]
    },
    {
      "cell_type": "markdown",
      "source": [
        "#문제\n",
        " 두 자연수 A와 B가 주어진다. 이때, A+B, A-B, A*B, A/B(몫), A%B(나머지)를출력하는 프로그램을 작성하시오. \n",
        " \n",
        "# 입력\n",
        " 두 자연수 A와 B가 주어진다. (1 ≤ A, B ≤ 10,000)\n",
        " \n",
        "# 출력\n",
        " 첫째 줄에 A+B, 둘째 줄에 A-B, 셋째 줄에 A*B, 넷째 줄에 A/B, 다섯째 줄에 %B를 출력한다."
      ],
      "metadata": {
        "id": "Ca5ABFZVeNhZ"
      }
    },
    {
      "cell_type": "code",
      "source": [
        "A,B = map(int, input().split())\n",
        "\n",
        "if 1<= A <=10000:\n",
        "  if 1<= B <=10000:\n",
        "    print(A+B)\n",
        "    print(A-B)\n",
        "    print(A*B)\n",
        "    print(int(A/B))\n",
        "    print(A%B)\n",
        "else:\n",
        "  print(\"please input correct value\")"
      ],
      "metadata": {
        "colab": {
          "base_uri": "https://localhost:8080/"
        },
        "id": "aWF48kBpXFbo",
        "outputId": "14361d04-63b8-4051-d0de-960410d7b1fe"
      },
      "execution_count": null,
      "outputs": [
        {
          "output_type": "stream",
          "name": "stdout",
          "text": [
            "5 6\n",
            "11\n",
            "-1\n",
            "30\n",
            "0\n",
            "5\n"
          ]
        }
      ]
    },
    {
      "cell_type": "markdown",
      "source": [
        "# 문제\n",
        " 준하는 사이트에 회원가입을 하다가 joonas라는 아이디가 이미 존재하는 것을 보고 놀랐다. 준하는 놀람을 ??!로 표현한다. 준하가 가입하려고 하는 사이트에 이미 존재하는 아이디가 주어졌을 때, 놀람을 표현하는 프로그램을 작성하시오.\n",
        "\n",
        "# 입력\n",
        " 첫째 줄에 준하가 가입하려고 하는 사이트에 이미 존재하는 아이디가 주어진다. 아이디는 알파벳 소문자로만 이루어져 있으며, 길이는 50자를 넘지 않는다.\n",
        "\n",
        "# 출력\n",
        " 첫째 줄에 준하의 놀람을 출력한다. 놀람은 아이디 뒤에 ??!를 붙여서 나타낸다."
      ],
      "metadata": {
        "id": "621Kn6RpeX2A"
      }
    },
    {
      "cell_type": "code",
      "source": [
        ""
      ],
      "metadata": {
        "id": "mDZuGcWkF0fc"
      },
      "execution_count": null,
      "outputs": []
    },
    {
      "cell_type": "code",
      "source": [
        "## 왜 틀린것인가?!\n",
        "\n",
        "A = input(\"\")[:50].lower()\n",
        "\n",
        "if A.isalpha()==True: \n",
        "    if A=='joonas':\n",
        "      print(A+\"??!\")\n",
        "    else:\n",
        "      print(A)\n",
        "else:\n",
        "  print('please write in English')"
      ],
      "metadata": {
        "colab": {
          "base_uri": "https://localhost:8080/"
        },
        "id": "SU3mZAZXXevQ",
        "outputId": "d1c635b0-1915-40f0-e4d2-73ffb457113e"
      },
      "execution_count": null,
      "outputs": [
        {
          "output_type": "stream",
          "name": "stdout",
          "text": [
            "aaaaaaaaaaaaaaaaaaaaaaaaaaaaaaaaaaaaaaaaaaaaaaaaaaaaaaaaaaaaaaaaaaaaaaasdasdsadasdasdasdasdasdasd\n",
            "aaaaaaaaaaaaaaaaaaaaaaaaaaaaaaaaaaaaaaaaaaaaaaaaaa\n"
          ]
        }
      ]
    },
    {
      "cell_type": "code",
      "source": [
        "# 이건 맞음.....\n",
        "\n",
        "A = input(\"\")\n",
        "print(A + \"??!\")"
      ],
      "metadata": {
        "colab": {
          "base_uri": "https://localhost:8080/"
        },
        "id": "C1tH3TUQCXIK",
        "outputId": "ebd4cfd1-5d21-40c6-e0b2-fc16c4e5d6df"
      },
      "execution_count": null,
      "outputs": [
        {
          "output_type": "stream",
          "name": "stdout",
          "text": [
            "12312412\n",
            "12312412??!\n"
          ]
        }
      ]
    },
    {
      "cell_type": "code",
      "source": [
        "## 이것도 맞음\n",
        "\n",
        "A = input(\"\")[:50].lower()\n",
        "\n",
        "if A.isalpha()==True: \n",
        "    print(A+\"??!\")\n",
        "else:\n",
        "    print('please write in English')"
      ],
      "metadata": {
        "id": "RMN1Bd5BG-KN"
      },
      "execution_count": null,
      "outputs": []
    },
    {
      "cell_type": "code",
      "source": [
        "type(A)"
      ],
      "metadata": {
        "colab": {
          "base_uri": "https://localhost:8080/"
        },
        "id": "A2ufotk4fZqL",
        "outputId": "ebd9b34c-91cf-4b9c-b63e-e6ee45d1eec5"
      },
      "execution_count": null,
      "outputs": [
        {
          "output_type": "execute_result",
          "data": {
            "text/plain": [
              "str"
            ]
          },
          "metadata": {},
          "execution_count": 91
        }
      ]
    },
    {
      "cell_type": "code",
      "source": [
        "len(\"aaaaaaaaaaaaaaaaaaaaaaaaaaaaaaaaaaaaaaaaaaaaaaaaaa\")"
      ],
      "metadata": {
        "id": "TRTA7Mz5-BHD",
        "colab": {
          "base_uri": "https://localhost:8080/"
        },
        "outputId": "5b216d76-68d8-4168-fc4c-2acc5eef0e4e"
      },
      "execution_count": null,
      "outputs": [
        {
          "output_type": "execute_result",
          "data": {
            "text/plain": [
              "50"
            ]
          },
          "metadata": {},
          "execution_count": 95
        }
      ]
    }
  ]
}