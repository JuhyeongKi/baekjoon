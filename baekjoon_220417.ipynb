{
  "nbformat": 4,
  "nbformat_minor": 0,
  "metadata": {
    "colab": {
      "name": "baekjoon_220417.ipynb",
      "provenance": [],
      "authorship_tag": "ABX9TyN44hgPhl61JMr/8nyUrS09",
      "include_colab_link": true
    },
    "kernelspec": {
      "name": "python3",
      "display_name": "Python 3"
    },
    "language_info": {
      "name": "python"
    }
  },
  "cells": [
    {
      "cell_type": "markdown",
      "metadata": {
        "id": "view-in-github",
        "colab_type": "text"
      },
      "source": [
        "<a href=\"https://colab.research.google.com/github/JuhyeongKi/baekjoon/blob/main/baekjoon_220417.ipynb\" target=\"_parent\"><img src=\"https://colab.research.google.com/assets/colab-badge.svg\" alt=\"Open In Colab\"/></a>"
      ]
    },
    {
      "cell_type": "markdown",
      "source": [
        "# 문제\n",
        " 지민이는 자신의 저택에서 MN개의 단위 정사각형으로 나누어져 있는 M×N 크기의 보드를 찾았다. 어떤 정사각형은 검은색으로 칠해져 있고, 나머지는 흰색으로 칠해져 있다. 지민이는 이 보드를 잘라서 8×8 크기의 체스판으로 만들려고 한다.\n",
        "\n",
        "체스판은 검은색과 흰색이 번갈아서 칠해져 있어야 한다. 구체적으로, 각 칸이 검은색과 흰색 중 하나로 색칠되어 있고, 변을 공유하는 두 개의 사각형은 다른 색으로 칠해져 있어야 한다. 따라서 이 정의를 따르면 체스판을 색칠하는 경우는 두 가지뿐이다. 하나는 맨 왼쪽 위 칸이 흰색인 경우, 하나는 검은색인 경우이다.\n",
        "\n",
        "보드가 체스판처럼 칠해져 있다는 보장이 없어서, 지민이는 8×8 크기의 체스판으로 잘라낸 후에 몇 개의 정사각형을 다시 칠해야겠다고 생각했다. 당연히 8*8 크기는 아무데서나 골라도 된다. 지민이가 다시 칠해야 하는 정사각형의 최소 개수를 구하는 프로그램을 작성하시오.\n",
        "\n",
        "# 입력\n",
        " 첫째 줄에 N과 M이 주어진다. N과 M은 8보다 크거나 같고, 50보다 작거나 같은 자연수이다. 둘째 줄부터 N개의 줄에는 보드의 각 행의 상태가 주어진다. B는 검은색이며, W는 흰색이다.\n",
        "\n",
        "# 출력\n",
        " 첫째 줄에 지민이가 다시 칠해야 하는 정사각형 개수의 최솟값을 출력한다."
      ],
      "metadata": {
        "id": "w8EUKrXfHCxb"
      }
    },
    {
      "cell_type": "code",
      "execution_count": 17,
      "metadata": {
        "colab": {
          "base_uri": "https://localhost:8080/"
        },
        "id": "PmkHFaXc6W5O",
        "outputId": "be7fd2d7-d249-40ba-b0f6-a2e71f3d15cc"
      },
      "outputs": [
        {
          "name": "stdout",
          "output_type": "stream",
          "text": [
            "8 8\n"
          ]
        }
      ],
      "source": [
        "N, M = map(int, input().split())"
      ]
    },
    {
      "cell_type": "code",
      "source": [
        "c = []\n",
        "for k in range(a):\n",
        "  c.append(list(input()))"
      ],
      "metadata": {
        "colab": {
          "base_uri": "https://localhost:8080/"
        },
        "id": "9zKJNGJs_L6B",
        "outputId": "93443e38-37fa-4642-8a53-6e91041f1a79"
      },
      "execution_count": 18,
      "outputs": [
        {
          "name": "stdout",
          "output_type": "stream",
          "text": [
            "WBWBWBWB\n",
            "BWBWBWBW\n",
            "WBWBWBWB\n",
            "BWBBBWBW\n",
            "WBWBWBWB\n",
            "BWBWBWBW\n",
            "WBWBWBWB\n",
            "BWBWBWBW\n"
          ]
        }
      ]
    },
    {
      "cell_type": "code",
      "source": [
        "c[1]"
      ],
      "metadata": {
        "colab": {
          "base_uri": "https://localhost:8080/"
        },
        "id": "0rTlH5Nr_5Fv",
        "outputId": "5b787ea8-6422-49ed-cdc4-a4189bad7cd0"
      },
      "execution_count": 19,
      "outputs": [
        {
          "output_type": "execute_result",
          "data": {
            "text/plain": [
              "['B', 'W', 'B', 'W', 'B', 'W', 'B', 'W']"
            ]
          },
          "metadata": {},
          "execution_count": 19
        }
      ]
    },
    {
      "cell_type": "code",
      "source": [
        "change_chess = []\n",
        "\n",
        "for i in range(N-7):\n",
        "  for j in range(M-7):\n",
        "    garo = 0\n",
        "    sero = 0\n",
        "    for z in range(i, i+8):\n",
        "      for y in range(j, j+8):\n",
        "        if (i+j)%2 ==0:\n",
        "          if c[i][j] !='W':\n",
        "            garo += 1\n",
        "          if c[i][j] !='B':\n",
        "            sero += 1\n",
        "        else:\n",
        "          if c[i][j] != 'B':\n",
        "            garo += 1\n",
        "          if c[i][j] != 'W':\n",
        "            sero += 1\n",
        "    change_chess.append(min(garo, sero))\n",
        "\n",
        "print(min(change_chess))"
      ],
      "metadata": {
        "colab": {
          "base_uri": "https://localhost:8080/"
        },
        "id": "irs8foTd6jcB",
        "outputId": "80734a1b-4a37-47d4-9909-0e678c651937"
      },
      "execution_count": 20,
      "outputs": [
        {
          "output_type": "stream",
          "name": "stdout",
          "text": [
            "0\n"
          ]
        }
      ]
    },
    {
      "cell_type": "markdown",
      "source": [
        ""
      ],
      "metadata": {
        "id": "cLNHsSUoFtj_"
      }
    },
    {
      "cell_type": "code",
      "source": [
        "N, M = map(int, input().split())\n",
        "\n",
        "c = []\n",
        "for k in range(N):\n",
        "  c.append(list(input()))\n",
        "\n",
        "change_chess = []\n",
        "\n",
        "for i in range(N-7):\n",
        "  for j in range(M-7):\n",
        "    garo = 0\n",
        "    sero = 0\n",
        "    for z in range(i, i+8):\n",
        "      for y in range(j, j+8):\n",
        "        if (z+y)%2 ==0:\n",
        "          if c[z][y] !='W':\n",
        "            garo += 1\n",
        "          if c[z][y] !='B':\n",
        "            sero += 1\n",
        "        else:\n",
        "          if c[z][y] != 'B':\n",
        "            garo += 1\n",
        "          if c[z][y] != 'W':\n",
        "            sero += 1\n",
        "    change_chess.append(min(garo, sero))\n",
        "\n",
        "print(min(change_chess))"
      ],
      "metadata": {
        "colab": {
          "base_uri": "https://localhost:8080/"
        },
        "id": "OMBYGVGv6zAL",
        "outputId": "15173c8c-104b-45e9-ca82-194649e15981"
      },
      "execution_count": 23,
      "outputs": [
        {
          "output_type": "stream",
          "name": "stdout",
          "text": [
            "10 13\n",
            "BBBBBBBBWBWBW\n",
            "BBBBBBBBBWBWB\n",
            "BBBBBBBBWBWBW\n",
            "BBBBBBBBBWBWB\n",
            "BBBBBBBBWBWBW\n",
            "BBBBBBBBBWBWB\n",
            "BBBBBBBBWBWBW\n",
            "BBBBBBBBBWBWB\n",
            "WWWWWWWWWWBWB\n",
            "WWWWWWWWWWBWB\n",
            "12\n"
          ]
        }
      ]
    },
    {
      "cell_type": "code",
      "source": [
        ""
      ],
      "metadata": {
        "id": "rvmpnVX8FypN"
      },
      "execution_count": null,
      "outputs": []
    }
  ]
}