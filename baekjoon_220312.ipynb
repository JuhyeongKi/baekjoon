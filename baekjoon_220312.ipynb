{
  "nbformat": 4,
  "nbformat_minor": 0,
  "metadata": {
    "colab": {
      "name": "baekjoon_220312.ipynb",
      "provenance": [],
      "authorship_tag": "ABX9TyNAXRNu4+iJygyqKhxCCkm5",
      "include_colab_link": true
    },
    "kernelspec": {
      "name": "python3",
      "display_name": "Python 3"
    },
    "language_info": {
      "name": "python"
    }
  },
  "cells": [
    {
      "cell_type": "markdown",
      "metadata": {
        "id": "view-in-github",
        "colab_type": "text"
      },
      "source": [
        "<a href=\"https://colab.research.google.com/github/JuhyeongKi/baekjoon/blob/main/baekjoon_220312.ipynb\" target=\"_parent\"><img src=\"https://colab.research.google.com/assets/colab-badge.svg\" alt=\"Open In Colab\"/></a>"
      ]
    },
    {
      "cell_type": "markdown",
      "source": [
        "# 문제\n",
        " 시험 점수를 입력받아 90 ~ 100점은 A, 80 ~ 89점은 B, 70 ~ 79점은 C, 60 ~ 69점은 D, 나머지 점수는 F를 출력하는 프로그램을 작성하시오.\n",
        "\n",
        "# 입력\n",
        " 첫째 줄에 시험 점수가 주어진다. 시험 점수는 0보다 크거나 같고, 100보다 작거나 같은 정수이다.\n",
        "\n",
        "# 출력\n",
        " 시험 성적을 출력한다."
      ],
      "metadata": {
        "id": "zO_XpxUPyWZj"
      }
    },
    {
      "cell_type": "code",
      "execution_count": 1,
      "metadata": {
        "colab": {
          "base_uri": "https://localhost:8080/"
        },
        "id": "h2Bb4b_WyTET",
        "outputId": "db32e868-e796-46b4-8f8c-cb60e99802f3"
      },
      "outputs": [
        {
          "output_type": "stream",
          "name": "stdout",
          "text": [
            "44\n",
            "F\n"
          ]
        }
      ],
      "source": [
        "A = int(input())\n",
        "\n",
        "if 90<=A<=100:\n",
        "  print('A')\n",
        "elif 80<=A<=89:\n",
        "  print('B')\n",
        "elif 70<=A<=79:\n",
        "  print('C')\n",
        "elif 60<=A<=69:\n",
        "  print('D')\n",
        "else:\n",
        "  print('F')"
      ]
    },
    {
      "cell_type": "markdown",
      "source": [
        "# 문제\n",
        " 알파벳 소문자로만 이루어진 단어 S가 주어진다. 각각의 알파벳에 대해서, 단어에 포함되어 있는 경우에는 처음 등장하는 위치를, 포함되어 있지 않은 경우에는 -1을 출력하는 프로그램을 작성하시오.\n",
        "\n",
        "# 입력\n",
        " 첫째 줄에 단어 S가 주어진다. 단어의 길이는 100을 넘지 않으며, 알파벳 소문자로만 이루어져 있다.\n",
        "\n",
        "# 출력\n",
        " 각각의 알파벳에 대해서, a가 처음 등장하는 위치, b가 처음 등장하는 위치, ... z가 처음 등장하는 위치를 공백으로 구분해서 출력한다.\n",
        "\n",
        "만약, 어떤 알파벳이 단어에 포함되어 있지 않다면 -1을 출력한다. 단어의 첫 번째 글자는 0번째 위치이고, 두 번째 글자는 1번째 위치이다.\n",
        "\n"
      ],
      "metadata": {
        "id": "Ie1awxTtz01D"
      }
    },
    {
      "cell_type": "code",
      "source": [
        "A = input()\n",
        "B=[]\n",
        "\n",
        "for l in A:\n",
        "   B.append(ord(l))\n",
        "C = list(range(97,123))\n",
        "\n",
        "D = []\n",
        "for i in C:\n",
        "  if i in B:\n",
        "    D.append(str(B.index(i)))\n",
        "  if i not in B:\n",
        "    D.append('-1')\n",
        "\n",
        "result = ' '.join(s for s in D)\n",
        "print(result)"
      ],
      "metadata": {
        "colab": {
          "base_uri": "https://localhost:8080/"
        },
        "id": "e27bYErC9EbR",
        "outputId": "24a9385e-63ac-4031-a397-e51bde7fcf6c"
      },
      "execution_count": 52,
      "outputs": [
        {
          "output_type": "stream",
          "name": "stdout",
          "text": [
            "baekjoon\n",
            "1 0 -1 -1 2 -1 -1 -1 -1 4 3 -1 -1 7 5 -1 -1 -1 -1 -1 -1 -1 -1 -1 -1 -1\n"
          ]
        }
      ]
    },
    {
      "cell_type": "code",
      "source": [
        "1 0 -1 -1 2 -1 -1 -1 -1 4 3 -1 -1 7 5 -1 -1 -1 -1 -1 -1 -1 -1 -1 -1 -1"
      ],
      "metadata": {
        "id": "kvorj0cC5epI"
      },
      "execution_count": null,
      "outputs": []
    }
  ]
}